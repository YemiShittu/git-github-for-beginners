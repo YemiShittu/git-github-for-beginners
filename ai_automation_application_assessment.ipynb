{
 "cells": [
  {
   "cell_type": "code",
   "execution_count": 6,
   "id": "9db452fb",
   "metadata": {},
   "outputs": [
    {
     "name": "stdout",
     "output_type": "stream",
     "text": [
      "{\"data\":[{\"latitude\":6.676689,\"longitude\":3.16735,\"type\":\"venue\",\"distance\":0.249,\"name\":\"Faith Tabarnacle\",\"number\":null,\"postal_code\":null,\"street\":null,\"confidence\":0.7,\"region\":\"Ogun\",\"region_code\":\"OG\",\"county\":\"Ado-Odo\\/Ota\",\"locality\":\"Agege\",\"administrative_area\":null,\"neighbourhood\":null,\"country\":\"Nigeria\",\"country_code\":\"NGA\",\"continent\":\"Africa\",\"label\":\"Faith Tabarnacle, Agege, OG, Nigeria\"}]}\n"
     ]
    }
   ],
   "source": [
    "# Python 3\n",
    "import http.client, urllib.parse\n",
    "\n",
    "conn = http.client.HTTPConnection('api.positionstack.com')\n",
    "\n",
    "params = urllib.parse.urlencode({\n",
    "    'access_key': 'c20e9d943af6d8fa43a7811393b07ee2',\n",
    "    'query': '6.6778, 3.1654',\n",
    "    'output': 'json',\n",
    "    'limit': 1,\n",
    "    'fields': 'results.name,street,locality,region,country,postal_code'\n",
    "    })\n",
    "\n",
    "conn.request('GET', '/v1/reverse?{}'.format(params))\n",
    "\n",
    "res = conn.getresponse()\n",
    "data = res.read()\n",
    "\n",
    "print(data.decode('utf-8'))\n"
   ]
  },
  {
   "cell_type": "code",
   "execution_count": 5,
   "id": "30583e65",
   "metadata": {},
   "outputs": [
    {
     "ename": "TypeError",
     "evalue": "string indices must be integers, not 'str'",
     "output_type": "error",
     "traceback": [
      "\u001b[0;31m---------------------------------------------------------------------------\u001b[0m",
      "\u001b[0;31mTypeError\u001b[0m                                 Traceback (most recent call last)",
      "Cell \u001b[0;32mIn[5], line 1\u001b[0m\n\u001b[0;32m----> 1\u001b[0m \u001b[38;5;28mprint\u001b[39m(data\u001b[38;5;241m.\u001b[39mdecode(\u001b[38;5;124m'\u001b[39m\u001b[38;5;124mutf-8\u001b[39m\u001b[38;5;124m'\u001b[39m)[\u001b[38;5;124m\"\u001b[39m\u001b[38;5;124mdata\u001b[39m\u001b[38;5;124m\"\u001b[39m])\n",
      "\u001b[0;31mTypeError\u001b[0m: string indices must be integers, not 'str'"
     ]
    }
   ],
   "source": [
    "print(data.decode('utf-8')[\"data\"])"
   ]
  },
  {
   "cell_type": "code",
   "execution_count": 7,
   "id": "2b1dab94",
   "metadata": {},
   "outputs": [],
   "source": [
    "import pandas as pd"
   ]
  },
  {
   "cell_type": "code",
   "execution_count": 8,
   "id": "5f31a948",
   "metadata": {},
   "outputs": [
    {
     "data": {
      "text/html": [
       "<div>\n",
       "<style scoped>\n",
       "    .dataframe tbody tr th:only-of-type {\n",
       "        vertical-align: middle;\n",
       "    }\n",
       "\n",
       "    .dataframe tbody tr th {\n",
       "        vertical-align: top;\n",
       "    }\n",
       "\n",
       "    .dataframe thead th {\n",
       "        text-align: right;\n",
       "    }\n",
       "</style>\n",
       "<table border=\"1\" class=\"dataframe\">\n",
       "  <thead>\n",
       "    <tr style=\"text-align: right;\">\n",
       "      <th></th>\n",
       "      <th>Customer Name</th>\n",
       "      <th>Order Date</th>\n",
       "      <th>Order Amount</th>\n",
       "      <th>Country</th>\n",
       "    </tr>\n",
       "  </thead>\n",
       "  <tbody>\n",
       "    <tr>\n",
       "      <th>0</th>\n",
       "      <td>John Doe</td>\n",
       "      <td>2025-01-01</td>\n",
       "      <td>150</td>\n",
       "      <td>USA</td>\n",
       "    </tr>\n",
       "    <tr>\n",
       "      <th>1</th>\n",
       "      <td>Jane Smith</td>\n",
       "      <td>2025-01-02</td>\n",
       "      <td>50</td>\n",
       "      <td>Canada</td>\n",
       "    </tr>\n",
       "    <tr>\n",
       "      <th>2</th>\n",
       "      <td>Alice Johnson</td>\n",
       "      <td>2025-01-03</td>\n",
       "      <td>200</td>\n",
       "      <td>UK</td>\n",
       "    </tr>\n",
       "    <tr>\n",
       "      <th>3</th>\n",
       "      <td>Bob Brown</td>\n",
       "      <td>2025-01-04</td>\n",
       "      <td>120</td>\n",
       "      <td>Germany</td>\n",
       "    </tr>\n",
       "    <tr>\n",
       "      <th>4</th>\n",
       "      <td>Charlie White</td>\n",
       "      <td>2025-01-05</td>\n",
       "      <td>90</td>\n",
       "      <td>France</td>\n",
       "    </tr>\n",
       "  </tbody>\n",
       "</table>\n",
       "</div>"
      ],
      "text/plain": [
       "   Customer Name  Order Date  Order Amount  Country\n",
       "0       John Doe  2025-01-01           150      USA\n",
       "1     Jane Smith  2025-01-02            50   Canada\n",
       "2  Alice Johnson  2025-01-03           200       UK\n",
       "3      Bob Brown  2025-01-04           120  Germany\n",
       "4  Charlie White  2025-01-05            90   France"
      ]
     },
     "execution_count": 8,
     "metadata": {},
     "output_type": "execute_result"
    }
   ],
   "source": [
    "data = pd.read_csv(\"/Users/wikiwoo/Downloads/Question 3 - Program Application (Public) - Sheet1.csv\")\n",
    "data.head()"
   ]
  },
  {
   "cell_type": "code",
   "execution_count": 9,
   "id": "5b680c71",
   "metadata": {},
   "outputs": [
    {
     "name": "stdout",
     "output_type": "stream",
     "text": [
      "990\n"
     ]
    }
   ],
   "source": [
    "total_amount = data.query(\"`Customer Name` == 'John Doe'\")[\"Order Amount\"].sum()\n",
    "print(total_amount)"
   ]
  },
  {
   "cell_type": "code",
   "execution_count": 11,
   "id": "0efd9789",
   "metadata": {},
   "outputs": [
    {
     "name": "stdout",
     "output_type": "stream",
     "text": [
      "990\n"
     ]
    }
   ],
   "source": [
    "total_amount = data.loc[data[\"Customer Name\"] == \"John Doe\", \"Order Amount\"].sum()\n",
    "print(total_amount)  # Output: 250 (100 + 150)\n"
   ]
  },
  {
   "cell_type": "code",
   "execution_count": 17,
   "id": "2ac0a979",
   "metadata": {},
   "outputs": [
    {
     "data": {
      "text/plain": [
       "Country\n",
       "USA    5310\n",
       "Name: Order Amount, dtype: int64"
      ]
     },
     "execution_count": 17,
     "metadata": {},
     "output_type": "execute_result"
    }
   ],
   "source": [
    "data.groupby(\"Country\")[\"Order Amount\"].sum().sort_values(ascending=False).head(1)"
   ]
  },
  {
   "cell_type": "code",
   "execution_count": 18,
   "id": "d630046b",
   "metadata": {},
   "outputs": [
    {
     "name": "stdout",
     "output_type": "stream",
     "text": [
      "Total order value for John Doe (orders > $100): $890.00\n"
     ]
    }
   ],
   "source": [
    "total = data[\n",
    "    (data[\"Customer Name\"] == \"John Doe\") & \n",
    "    (data[\"Order Amount\"] > 100)\n",
    "][\"Order Amount\"].sum()\n",
    "\n",
    "print(f\"Total order value for John Doe (orders > $100): ${total:.2f}\")"
   ]
  },
  {
   "cell_type": "code",
   "execution_count": 19,
   "id": "71399356",
   "metadata": {},
   "outputs": [
    {
     "name": "stdout",
     "output_type": "stream",
     "text": [
      "Country with highest revenue (orders > $100): USA ($4,680.00)\n"
     ]
    }
   ],
   "source": [
    "import pandas as pd\n",
    "\n",
    "# Filter orders > $100, group by country, sum revenue, and sort\n",
    "highest_revenue_country = (\n",
    "    data[data[\"Order Amount\"] > 100]          # Filter orders > $100\n",
    "    .groupby(\"Country\")[\"Order Amount\"]       # Group by country\n",
    "    .sum()                                   # Sum revenue per country\n",
    "    .sort_values(ascending=False)            # Sort descending\n",
    "    .head(1)                                 # Get top country\n",
    ")\n",
    "\n",
    "print(f\"Country with highest revenue (orders > $100): {highest_revenue_country.index[0]} (${highest_revenue_country.values[0]:,.2f})\")"
   ]
  },
  {
   "cell_type": "code",
   "execution_count": 20,
   "id": "6c35c85c",
   "metadata": {},
   "outputs": [
    {
     "name": "stdout",
     "output_type": "stream",
     "text": [
      "Average order amount (orders > $100): $193.15\n"
     ]
    }
   ],
   "source": [
    "import pandas as pd\n",
    "\n",
    "# Calculate average order amount for orders > $100\n",
    "avg_high_value = data[data[\"Order Amount\"] > 100][\"Order Amount\"].mean()\n",
    "\n",
    "print(f\"Average order amount (orders > $100): ${avg_high_value:,.2f}\")"
   ]
  },
  {
   "cell_type": "code",
   "execution_count": 21,
   "id": "f4c5ae82",
   "metadata": {},
   "outputs": [
    {
     "data": {
      "image/png": "[encoded data removed]",
      "text/plain": [
       "<Figure size 1000x600 with 1 Axes>"
      ]
     },
     "metadata": {},
     "output_type": "display_data"
    }
   ],
   "source": [
    "import matplotlib.pyplot as plt\n",
    "\n",
    "# 1. Filter orders > $50 and group by country\n",
    "revenue_by_country = (\n",
    "    data[data[\"Order Amount\"] > 50]\n",
    "    .groupby(\"Country\")[\"Order Amount\"]\n",
    "    .sum()\n",
    "    .sort_values(ascending=False)\n",
    ")\n",
    "\n",
    "# 2. Create the bar chart\n",
    "plt.figure(figsize=(10, 6))\n",
    "revenue_by_country.plot(kind=\"bar\", color=\"skyblue\", edgecolor=\"black\")\n",
    "\n",
    "# 3. Format the chart\n",
    "plt.title(\"Total Revenue by Country (Orders > $50)\", fontsize=14, pad=20)\n",
    "plt.xlabel(\"Country\", fontsize=12)\n",
    "plt.ylabel(\"Total Revenue ($)\", fontsize=12)\n",
    "plt.xticks(rotation=45, ha=\"right\")\n",
    "plt.grid(axis=\"y\", linestyle=\"--\", alpha=0.7)\n",
    "\n",
    "# 4. Add value labels on top of bars\n",
    "for i, value in enumerate(revenue_by_country):\n",
    "    plt.text(i, value + (max(revenue_by_country)*0.02), \n",
    "             f\"${value:,.0f}\", \n",
    "             ha=\"center\",\n",
    "             fontsize=10)\n",
    "\n",
    "plt.tight_layout()\n",
    "plt.show()"
   ]
  },
  {
   "cell_type": "code",
   "execution_count": null,
   "id": "2ed03522",
   "metadata": {},
   "outputs": [],
   "source": []
  }
 ],
 "metadata": {
  "kernelspec": {
   "display_name": "Python 3 (ipykernel)",
   "language": "python",
   "name": "python3"
  },
  "language_info": {
   "codemirror_mode": {
    "name": "ipython",
    "version": 3
   },
   "file_extension": ".py",
   "mimetype": "text/x-python",
   "name": "python",
   "nbconvert_exporter": "python",
   "pygments_lexer": "ipython3",
   "version": "3.11.5"
  }
 },
 "nbformat": 4,
 "nbformat_minor": 5
}
